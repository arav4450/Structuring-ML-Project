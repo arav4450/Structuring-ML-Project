{
 "cells": [
  {
   "cell_type": "code",
   "execution_count": 1,
   "metadata": {},
   "outputs": [],
   "source": [
    "import os, sys\n",
    "currentdir = os.getcwd()\n",
    "parentdir = os.path.dirname(currentdir)\n",
    "sys.path.insert(0,parentdir)"
   ]
  },
  {
   "cell_type": "code",
   "execution_count": 2,
   "metadata": {},
   "outputs": [],
   "source": [
    "#!cd  ---> displaying current directory in windows\n",
    "#!pwd ---> displaying current directory in linux"
   ]
  },
  {
   "cell_type": "code",
   "execution_count": 2,
   "metadata": {},
   "outputs": [
    {
     "name": "stderr",
     "output_type": "stream",
     "text": [
      "g:\\Software\\Anaconda\\envs\\pytorch_env\\lib\\site-packages\\tqdm\\auto.py:22: TqdmWarning: IProgress not found. Please update jupyter and ipywidgets. See https://ipywidgets.readthedocs.io/en/stable/user_install.html\n",
      "  from .autonotebook import tqdm as notebook_tqdm\n",
      "g:\\Software\\Anaconda\\envs\\pytorch_env\\lib\\site-packages\\torchvision\\io\\image.py:11: UserWarning: Failed to load image Python extension: [WinError 126] The specified module could not be found\n",
      "  warn(f\"Failed to load image Python extension: {e}\")\n"
     ]
    }
   ],
   "source": [
    "from codebase.data import datamodule"
   ]
  },
  {
   "cell_type": "code",
   "execution_count": 3,
   "metadata": {},
   "outputs": [
    {
     "name": "stderr",
     "output_type": "stream",
     "text": [
      "g:\\Software\\Anaconda\\envs\\pytorch_env\\lib\\site-packages\\pytorch_lightning\\core\\datamodule.py:122: LightningDeprecationWarning: DataModule property `train_transforms` was deprecated in v1.5 and will be removed in v1.7.\n",
      "  \"DataModule property `train_transforms` was deprecated in v1.5 and will be removed in v1.7.\"\n",
      "g:\\Software\\Anaconda\\envs\\pytorch_env\\lib\\site-packages\\pytorch_lightning\\core\\datamodule.py:141: LightningDeprecationWarning: DataModule property `val_transforms` was deprecated in v1.5 and will be removed in v1.7.\n",
      "  \"DataModule property `val_transforms` was deprecated in v1.5 and will be removed in v1.7.\"\n"
     ]
    }
   ],
   "source": [
    "data1 = datamodule(None)"
   ]
  },
  {
   "cell_type": "code",
   "execution_count": 4,
   "metadata": {},
   "outputs": [],
   "source": [
    "data1.prepare_data()"
   ]
  },
  {
   "cell_type": "code",
   "execution_count": 5,
   "metadata": {},
   "outputs": [
    {
     "name": "stderr",
     "output_type": "stream",
     "text": [
      "g:\\Software\\Anaconda\\envs\\pytorch_env\\lib\\site-packages\\pytorch_lightning\\core\\datamodule.py:115: LightningDeprecationWarning: DataModule property `train_transforms` was deprecated in v1.5 and will be removed in v1.7.\n",
      "  \"DataModule property `train_transforms` was deprecated in v1.5 and will be removed in v1.7.\"\n",
      "g:\\Software\\Anaconda\\envs\\pytorch_env\\lib\\site-packages\\pytorch_lightning\\core\\datamodule.py:134: LightningDeprecationWarning: DataModule property `val_transforms` was deprecated in v1.5 and will be removed in v1.7.\n",
      "  \"DataModule property `val_transforms` was deprecated in v1.5 and will be removed in v1.7.\"\n"
     ]
    }
   ],
   "source": [
    "data1.setup()"
   ]
  },
  {
   "cell_type": "code",
   "execution_count": 6,
   "metadata": {},
   "outputs": [
    {
     "name": "stdout",
     "output_type": "stream",
     "text": [
      "Image Dataset\n",
      "Num classes: 2\n",
      "Mapping: {0: 'Ants', 1: 'Bees'}\n",
      "Dims: (3, 224, 224)\n",
      "Train/val/test sizes: 244, 153, 0\n",
      "Batch x stats: (torch.Size([4, 3, 224, 224]), torch.float32, tensor(-2.1179), tensor(-0.1728), tensor(1.2115), tensor(2.6400))\n",
      "Batch y stats: (torch.Size([4]), torch.int64, tensor(0), tensor(1))\n",
      "\n"
     ]
    }
   ],
   "source": [
    "print(data1)"
   ]
  },
  {
   "cell_type": "code",
   "execution_count": 8,
   "metadata": {},
   "outputs": [],
   "source": [
    "# example demonstrating use of args from notebook\n",
    "import argparse\n",
    "parser = argparse.ArgumentParser()\n",
    "datamodule.add_to_argparse(parser)\n",
    "args = parser.parse_args(['--batch_size','16'])\n",
    "data2 = datamodule(args)"
   ]
  },
  {
   "cell_type": "code",
   "execution_count": 9,
   "metadata": {},
   "outputs": [
    {
     "name": "stdout",
     "output_type": "stream",
     "text": [
      "Image Dataset\n",
      "Num classes: 2\n",
      "Mapping: {0: 'Ants', 1: 'Bees'}\n",
      "Dims: (3, 224, 224)\n",
      "Train/val/test sizes: 244, 153, 0\n",
      "Batch x stats: (torch.Size([16, 3, 224, 224]), torch.float32, tensor(-2.1179), tensor(0.0721), tensor(1.1943), tensor(2.6400))\n",
      "Batch y stats: (torch.Size([16]), torch.int64, tensor(0), tensor(1))\n",
      "\n"
     ]
    }
   ],
   "source": [
    "data2.prepare_data()\n",
    "data2.setup()\n",
    "print(data2)"
   ]
  },
  {
   "cell_type": "code",
   "execution_count": 7,
   "metadata": {},
   "outputs": [
    {
     "name": "stdout",
     "output_type": "stream",
     "text": [
      "torch.Size([4, 3, 224, 224])\n",
      "torch.Size([4])\n"
     ]
    }
   ],
   "source": [
    "x,y = next(iter(data1.train_dataloader()))\n",
    "print(x.shape)\n",
    "print(y.shape)"
   ]
  },
  {
   "cell_type": "code",
   "execution_count": 8,
   "metadata": {},
   "outputs": [
    {
     "data": {
      "text/plain": [
       "{'input_dims': (3, 224, 224),\n",
       " 'output_dims': (1,),\n",
       " 'mapping': {0: 'Ants', 1: 'Bees'}}"
      ]
     },
     "execution_count": 8,
     "metadata": {},
     "output_type": "execute_result"
    }
   ],
   "source": [
    "data_config = data1.config()\n",
    "data_config"
   ]
  },
  {
   "cell_type": "code",
   "execution_count": 9,
   "metadata": {},
   "outputs": [
    {
     "name": "stdout",
     "output_type": "stream",
     "text": [
      "torch.Size([4, 2])\n"
     ]
    }
   ],
   "source": [
    "from codebase.model.resnet import resnet18\n",
    "\n",
    "model = resnet18(data_config)\n",
    "\n",
    "output = model(x)\n",
    "\n",
    "print(output.shape)"
   ]
  },
  {
   "cell_type": "code",
   "execution_count": 10,
   "metadata": {},
   "outputs": [],
   "source": [
    "import pytorch_lightning as pl\n",
    "from codebase.lit_model import BaseLitModel"
   ]
  },
  {
   "cell_type": "code",
   "execution_count": 11,
   "metadata": {},
   "outputs": [],
   "source": [
    "logger = pl.loggers.TensorBoardLogger(BaseLitModel.log_dirname())\n",
    "experiment_dir = logger.log_dir"
   ]
  },
  {
   "cell_type": "code",
   "execution_count": 12,
   "metadata": {},
   "outputs": [],
   "source": [
    "goldstar_metric = \"validation/loss\"\n",
    "filename_format = \"epoch={epoch:04d}-validation.loss={validation/loss:.3f}\"\n",
    "checkpoint_callback = pl.callbacks.ModelCheckpoint(\n",
    "        save_top_k=5,\n",
    "        filename=filename_format,\n",
    "        monitor=goldstar_metric,\n",
    "        mode=\"min\",\n",
    "        auto_insert_metric_name=False,\n",
    "        dirpath=experiment_dir,\n",
    "        every_n_epochs= 1, # can be passed as an argument\n",
    "    )"
   ]
  },
  {
   "cell_type": "code",
   "execution_count": 13,
   "metadata": {},
   "outputs": [
    {
     "name": "stdout",
     "output_type": "stream",
     "text": [
      "{'loss': tensor(0.6423, grad_fn=<NllLossBackward0>)}\n"
     ]
    },
    {
     "name": "stderr",
     "output_type": "stream",
     "text": [
      "g:\\Software\\Anaconda\\envs\\pytorch_env\\lib\\site-packages\\pytorch_lightning\\core\\lightning.py:416: UserWarning: You are trying to `self.log()` but the `self.trainer` reference is not registered on the model yet. This is most likely because the model hasn't been passed to the `Trainer`\n",
      "  \"You are trying to `self.log()` but the `self.trainer` reference is not registered on the model yet.\"\n"
     ]
    }
   ],
   "source": [
    "# testing \n",
    "batch = next(iter(data1.train_dataloader()))\n",
    "lit_mode = BaseLitModel(model)\n",
    "outputs = lit_mode.training_step(batch,0)\n",
    "print(outputs)"
   ]
  },
  {
   "cell_type": "code",
   "execution_count": 14,
   "metadata": {},
   "outputs": [
    {
     "name": "stderr",
     "output_type": "stream",
     "text": [
      "Trainer already configured with model summary callbacks: [<class 'pytorch_lightning.callbacks.model_summary.ModelSummary'>]. Skipping setting a default `ModelSummary` callback.\n",
      "GPU available: True, used: False\n",
      "TPU available: False, using: 0 TPU cores\n",
      "IPU available: False, using: 0 IPUs\n",
      "g:\\Software\\Anaconda\\envs\\pytorch_env\\lib\\site-packages\\pytorch_lightning\\trainer\\trainer.py:1585: UserWarning: GPU available but not used. Set the gpus flag in your trainer `Trainer(gpus=1)` or script `--gpus=1`.\n",
      "  \"GPU available but not used. Set the gpus flag in your trainer `Trainer(gpus=1)` or script `--gpus=1`.\"\n",
      "g:\\Software\\Anaconda\\envs\\pytorch_env\\lib\\site-packages\\pytorch_lightning\\core\\datamodule.py:470: LightningDeprecationWarning: DataModule.setup has already been called, so it will not be called again. In v1.6 this behavior will change to always call DataModule.setup.\n",
      "  f\"DataModule.{name} has already been called, so it will not be called again. \"\n",
      "\n",
      "  | Name        | Type     | Params\n",
      "-----------------------------------------\n",
      "0 | model       | resnet18 | 11.2 M\n",
      "1 | model.model | ResNet   | 11.2 M\n",
      "2 | train_acc   | Accuracy | 0     \n",
      "3 | val_acc     | Accuracy | 0     \n",
      "4 | test_acc    | Accuracy | 0     \n",
      "-----------------------------------------\n",
      "11.2 M    Trainable params\n",
      "0         Non-trainable params\n",
      "11.2 M    Total params\n",
      "44.710    Total estimated model params size (MB)\n"
     ]
    },
    {
     "name": "stdout",
     "output_type": "stream",
     "text": [
      "Validation sanity check:   0%|          | 0/2 [00:00<?, ?it/s]"
     ]
    },
    {
     "name": "stderr",
     "output_type": "stream",
     "text": [
      "g:\\Software\\Anaconda\\envs\\pytorch_env\\lib\\site-packages\\pytorch_lightning\\trainer\\data_loading.py:133: UserWarning: The dataloader, val_dataloader 0, does not have many workers which may be a bottleneck. Consider increasing the value of the `num_workers` argument` (try 6 which is the number of cpus on this machine) in the `DataLoader` init to improve performance.\n",
      "  f\"The dataloader, {name}, does not have many workers which may be a bottleneck.\"\n"
     ]
    },
    {
     "name": "stdout",
     "output_type": "stream",
     "text": [
      "                                                                      "
     ]
    },
    {
     "name": "stderr",
     "output_type": "stream",
     "text": [
      "g:\\Software\\Anaconda\\envs\\pytorch_env\\lib\\site-packages\\pytorch_lightning\\trainer\\data_loading.py:133: UserWarning: The dataloader, train_dataloader, does not have many workers which may be a bottleneck. Consider increasing the value of the `num_workers` argument` (try 6 which is the number of cpus on this machine) in the `DataLoader` init to improve performance.\n",
      "  f\"The dataloader, {name}, does not have many workers which may be a bottleneck.\"\n"
     ]
    },
    {
     "name": "stdout",
     "output_type": "stream",
     "text": [
      "Epoch 4: 100%|██████████| 100/100 [00:25<00:00,  3.98it/s, loss=0.42, v_num=0, validation/loss=0.273, validation/acc=0.895] \n"
     ]
    }
   ],
   "source": [
    "lit_mode = BaseLitModel(model)\n",
    "\n",
    "summary_callback = pl.callbacks.ModelSummary(max_depth=2)\n",
    "\n",
    "callbacks = [summary_callback, checkpoint_callback]\n",
    "    \n",
    "\n",
    "\n",
    "trainer = pl.Trainer( callbacks=callbacks, logger=logger,max_epochs=5)\n",
    "\n",
    "    \n",
    "\n",
    "trainer.fit(lit_mode, datamodule=data1)"
   ]
  },
  {
   "cell_type": "code",
   "execution_count": 36,
   "metadata": {},
   "outputs": [],
   "source": [
    "#path = logger.log_dir\n",
    "#print(path)\n",
    "#path = \"/home/aravind/Coding Environment/Image Classification-1/log/lightning_logs/\"\n",
    "#%load_ext tensorboard\n",
    "#%reload_ext tensorboard\n",
    "#%tensorboard --logdir path"
   ]
  },
  {
   "cell_type": "code",
   "execution_count": 30,
   "metadata": {},
   "outputs": [],
   "source": [
    "path = \"E:\\Coding Environment\\Image Classification-1\"\n",
    "os.chdir(path)"
   ]
  },
  {
   "cell_type": "code",
   "execution_count": 31,
   "metadata": {},
   "outputs": [
    {
     "name": "stdout",
     "output_type": "stream",
     "text": [
      "E:\\Coding Environment\\Image Classification-1\n"
     ]
    }
   ],
   "source": [
    "!cd"
   ]
  },
  {
   "cell_type": "code",
   "execution_count": 35,
   "metadata": {},
   "outputs": [
    {
     "data": {
      "text/plain": [
       "Reusing TensorBoard on port 6006 (pid 6536), started 0:00:11 ago. (Use '!kill 6536' to kill it.)"
      ]
     },
     "metadata": {},
     "output_type": "display_data"
    },
    {
     "data": {
      "text/html": [
       "\n",
       "      <iframe id=\"tensorboard-frame-cba9f3f73146b925\" width=\"100%\" height=\"800\" frameborder=\"0\">\n",
       "      </iframe>\n",
       "      <script>\n",
       "        (function() {\n",
       "          const frame = document.getElementById(\"tensorboard-frame-cba9f3f73146b925\");\n",
       "          const url = new URL(\"http://localhost\");\n",
       "          const port = 6006;\n",
       "          if (port) {\n",
       "            url.port = port;\n",
       "          }\n",
       "          frame.src = url;\n",
       "        })();\n",
       "      </script>\n",
       "    "
      ],
      "text/plain": [
       "<IPython.core.display.HTML object>"
      ]
     },
     "metadata": {},
     "output_type": "display_data"
    }
   ],
   "source": [
    "#%load_ext tensorboard\n",
    "%reload_ext tensorboard\n",
    "%tensorboard --logdir logs/"
   ]
  }
 ],
 "metadata": {
  "kernelspec": {
   "display_name": "pytorch_env",
   "language": "python",
   "name": "python3"
  },
  "language_info": {
   "codemirror_mode": {
    "name": "ipython",
    "version": 3
   },
   "file_extension": ".py",
   "mimetype": "text/x-python",
   "name": "python",
   "nbconvert_exporter": "python",
   "pygments_lexer": "ipython3",
   "version": "3.6.13"
  }
 },
 "nbformat": 4,
 "nbformat_minor": 2
}
